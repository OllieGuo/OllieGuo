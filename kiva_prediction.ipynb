{
 "cells": [
  {
   "cell_type": "code",
   "execution_count": 14,
   "metadata": {},
   "outputs": [
    {
     "name": "stdout",
     "output_type": "stream",
     "text": [
      "<class 'pandas.core.frame.DataFrame'>\n",
      "RangeIndex: 5454 entries, 0 to 5453\n",
      "Data columns (total 8 columns):\n",
      " #   Column       Non-Null Count  Dtype \n",
      "---  ------       --------------  ----- \n",
      " 0   id           5454 non-null   int64 \n",
      " 1   country      5454 non-null   object\n",
      " 2   en           5454 non-null   object\n",
      " 3   gender       5454 non-null   object\n",
      " 4   loan_amount  5454 non-null   int64 \n",
      " 5   nonpayment   5454 non-null   object\n",
      " 6   sector       5454 non-null   object\n",
      " 7   status       5454 non-null   int64 \n",
      "dtypes: int64(3), object(5)\n",
      "memory usage: 341.0+ KB\n"
     ]
    },
    {
     "data": {
      "text/plain": [
       "(   id             country                                                 en  \\\n",
       " 0   1             Ecuador  <h4>Business Description</h4> \\n <p> Don Mauro...   \n",
       " 1   2  Dominican Republic  Rosa Iris is a brilliant entrepreneur who sell...   \n",
       " 2   3               Kenya  Sirote is married with six children. Two of he...   \n",
       " 3   4               Kenya  David Mwangi Kimani  is 33 years old and marri...   \n",
       " 4   5  Dominican Republic  Nilda is a very persistent woman who has learn...   \n",
       " \n",
       "   gender  loan_amount nonpayment       sector  status  \n",
       " 0      M          825     lender         Food       1  \n",
       " 1      F          450    partner       Retail       0  \n",
       " 2      F          600     lender  Agriculture       1  \n",
       " 3      M          650     lender         Food       1  \n",
       " 4      F          325    partner         Food       0  ,\n",
       " None)"
      ]
     },
     "execution_count": 14,
     "metadata": {},
     "output_type": "execute_result"
    }
   ],
   "source": [
    "import pandas as pd\n",
    "\n",
    "# Load the train and test datasets\n",
    "train_df = pd.read_csv('kiva_train.csv')\n",
    "test_df = pd.read_csv('kiva_test.csv')\n",
    "\n",
    "# Display the first few rows of the train dataset to understand its structure\n",
    "train_df.head(), train_df.info()"
   ]
  },
  {
   "cell_type": "code",
   "execution_count": 18,
   "metadata": {},
   "outputs": [
    {
     "name": "stderr",
     "output_type": "stream",
     "text": [
      "[nltk_data] Downloading package vader_lexicon to\n",
      "[nltk_data]     /Users/Ollie/nltk_data...\n",
      "[nltk_data]   Package vader_lexicon is already up-to-date!\n"
     ]
    },
    {
     "data": {
      "text/plain": [
       "True"
      ]
     },
     "execution_count": 18,
     "metadata": {},
     "output_type": "execute_result"
    }
   ],
   "source": [
    "from sklearn.pipeline import Pipeline\n",
    "from sklearn.compose import ColumnTransformer\n",
    "from sklearn.preprocessing import FunctionTransformer, OneHotEncoder, StandardScaler\n",
    "from sklearn.model_selection import train_test_split\n",
    "from sklearn.linear_model import LogisticRegression\n",
    "from sklearn.metrics import classification_report\n",
    "from nltk.sentiment.vader import SentimentIntensityAnalyzer\n",
    "from sklearn.metrics import accuracy_score, precision_score, recall_score, roc_auc_score, classification_report\n",
    "import numpy as np\n",
    "import nltk\n",
    "nltk.download('vader_lexicon')\n"
   ]
  },
  {
   "cell_type": "code",
   "execution_count": 19,
   "metadata": {},
   "outputs": [
    {
     "name": "stdout",
     "output_type": "stream",
     "text": [
      "Accuracy: 0.8762603116406966\n",
      "Precision: 0.8911290322580645\n",
      "Recall: 0.8451242829827916\n",
      "ROC-AUC Score: 0.9141632779468396\n",
      "\n",
      "Classification Report:\n",
      "               precision    recall  f1-score   support\n",
      "\n",
      "           0       0.86      0.90      0.88       568\n",
      "           1       0.89      0.85      0.87       523\n",
      "\n",
      "    accuracy                           0.88      1091\n",
      "   macro avg       0.88      0.88      0.88      1091\n",
      "weighted avg       0.88      0.88      0.88      1091\n",
      "\n"
     ]
    },
    {
     "data": {
      "text/plain": [
       "'kiva_predictions.csv'"
      ]
     },
     "execution_count": 19,
     "metadata": {},
     "output_type": "execute_result"
    }
   ],
   "source": [
    "# Function to apply sentiment analysis on the 'en' column\n",
    "def sentiment_analysis(text_series):\n",
    "    analyzer = SentimentIntensityAnalyzer()\n",
    "    return text_series.apply(lambda x: analyzer.polarity_scores(x)['compound']).values.reshape(-1, 1)\n",
    "\n",
    "# Split the features and target\n",
    "X = train_df.drop(columns=['id', 'status'])\n",
    "y = train_df['status']\n",
    "\n",
    "# Identify categorical and numerical columns\n",
    "categorical_cols = ['country', 'gender', 'nonpayment', 'sector']\n",
    "numerical_cols = ['loan_amount']\n",
    "\n",
    "# Define the pipeline\n",
    "pipeline = Pipeline(steps=[\n",
    "    ('preprocessor', ColumnTransformer(\n",
    "        transformers=[\n",
    "            ('sentiment', FunctionTransformer(sentiment_analysis), 'en'),\n",
    "            ('cat', OneHotEncoder(handle_unknown='ignore', sparse_output=False), categorical_cols),\n",
    "            ('num', 'passthrough', numerical_cols)\n",
    "        ])),\n",
    "    ('scaler', StandardScaler(with_mean=False)),  # Set with_mean=False to avoid the error\n",
    "    ('model', LogisticRegression(random_state=42, max_iter=1000))\n",
    "])\n",
    "\n",
    "# Train the model\n",
    "pipeline.fit(X_train, y_train)\n",
    "\n",
    "# Make predictions on the validation set\n",
    "y_val_pred = pipeline.predict(X_val)\n",
    "y_val_proba = pipeline.predict_proba(X_val)[:, 1]\n",
    "\n",
    "# Print evaluation metrics\n",
    "print(\"Accuracy:\", accuracy_score(y_val, y_val_pred))\n",
    "print(\"Precision:\", precision_score(y_val, y_val_pred))\n",
    "print(\"Recall:\", recall_score(y_val, y_val_pred))\n",
    "print(\"ROC-AUC Score:\", roc_auc_score(y_val, y_val_proba))\n",
    "print(\"\\nClassification Report:\\n\", classification_report(y_val, y_val_pred))\n",
    "\n",
    "# Prepare the test dataset and make predictions\n",
    "X_test = test_df.drop(columns=['id'])\n",
    "test_predictions = pipeline.predict_proba(X_test)[:, 1]\n",
    "\n",
    "# Create the output DataFrame with id and predicted status\n",
    "output_df = pd.DataFrame({\n",
    "    'id': test_df['id'],\n",
    "    'status': test_predictions\n",
    "})\n",
    "\n",
    "# Save the output to a CSV file\n",
    "output_file = 'kiva_predictions.csv'\n",
    "output_df.to_csv(output_file, index=False)\n",
    "output_file"
   ]
  },
  {
   "cell_type": "code",
   "execution_count": null,
   "metadata": {},
   "outputs": [],
   "source": []
  }
 ],
 "metadata": {
  "kernelspec": {
   "display_name": "mma865",
   "language": "python",
   "name": "python3"
  },
  "language_info": {
   "codemirror_mode": {
    "name": "ipython",
    "version": 3
   },
   "file_extension": ".py",
   "mimetype": "text/x-python",
   "name": "python",
   "nbconvert_exporter": "python",
   "pygments_lexer": "ipython3",
   "version": "3.11.9"
  }
 },
 "nbformat": 4,
 "nbformat_minor": 2
}
