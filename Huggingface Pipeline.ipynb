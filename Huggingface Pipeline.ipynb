{
 "cells": [
  {
   "cell_type": "markdown",
   "metadata": {},
   "source": [
    "# Text Classification"
   ]
  },
  {
   "cell_type": "code",
   "execution_count": 1,
   "metadata": {},
   "outputs": [],
   "source": [
    "from transformers import pipeline"
   ]
  },
  {
   "cell_type": "code",
   "execution_count": 2,
   "metadata": {},
   "outputs": [
    {
     "name": "stderr",
     "output_type": "stream",
     "text": [
      "No model was supplied, defaulted to distilbert/distilbert-base-uncased-finetuned-sst-2-english and revision af0f99b (https://huggingface.co/distilbert/distilbert-base-uncased-finetuned-sst-2-english).\n",
      "Using a pipeline without specifying a model name and revision in production is not recommended.\n"
     ]
    },
    {
     "data": {
      "application/vnd.jupyter.widget-view+json": {
       "model_id": "4a0d47f47a634cfba138a71de5bae042",
       "version_major": 2,
       "version_minor": 0
      },
      "text/plain": [
       "config.json:   0%|          | 0.00/629 [00:00<?, ?B/s]"
      ]
     },
     "metadata": {},
     "output_type": "display_data"
    },
    {
     "data": {
      "application/vnd.jupyter.widget-view+json": {
       "model_id": "28311d661b36427f981860f75a22e6a9",
       "version_major": 2,
       "version_minor": 0
      },
      "text/plain": [
       "model.safetensors:   0%|          | 0.00/268M [00:00<?, ?B/s]"
      ]
     },
     "metadata": {},
     "output_type": "display_data"
    },
    {
     "data": {
      "application/vnd.jupyter.widget-view+json": {
       "model_id": "6f059cb3b8cb4836a41f69da12cd94da",
       "version_major": 2,
       "version_minor": 0
      },
      "text/plain": [
       "tokenizer_config.json:   0%|          | 0.00/48.0 [00:00<?, ?B/s]"
      ]
     },
     "metadata": {},
     "output_type": "display_data"
    },
    {
     "data": {
      "application/vnd.jupyter.widget-view+json": {
       "model_id": "c868088f6c364c03b9f6e3fc5931ea10",
       "version_major": 2,
       "version_minor": 0
      },
      "text/plain": [
       "vocab.txt:   0%|          | 0.00/232k [00:00<?, ?B/s]"
      ]
     },
     "metadata": {},
     "output_type": "display_data"
    },
    {
     "name": "stderr",
     "output_type": "stream",
     "text": [
      "/Users/Ollie/anaconda3/envs/mma865/lib/python3.11/site-packages/transformers/tokenization_utils_base.py:1601: FutureWarning: `clean_up_tokenization_spaces` was not set. It will be set to `True` by default. This behavior will be depracted in transformers v4.45, and will be then set to `False` by default. For more details check this issue: https://github.com/huggingface/transformers/issues/31884\n",
      "  warnings.warn(\n",
      "Hardware accelerator e.g. GPU is available in the environment, but no `device` argument is passed to the `Pipeline` object. Model will be on CPU.\n"
     ]
    }
   ],
   "source": [
    "classifier = pipeline('sentiment-analysis')"
   ]
  },
  {
   "cell_type": "code",
   "execution_count": 3,
   "metadata": {},
   "outputs": [
    {
     "data": {
      "text/plain": [
       "[{'label': 'NEGATIVE', 'score': 0.9829559326171875}]"
      ]
     },
     "execution_count": 3,
     "metadata": {},
     "output_type": "execute_result"
    }
   ],
   "source": [
    "classifier(\"The food was good overall but Pizza was horrible\")"
   ]
  },
  {
   "cell_type": "code",
   "execution_count": 4,
   "metadata": {},
   "outputs": [
    {
     "data": {
      "text/plain": [
       "[{'label': 'POSITIVE', 'score': 0.9998760223388672}]"
      ]
     },
     "execution_count": 4,
     "metadata": {},
     "output_type": "execute_result"
    }
   ],
   "source": [
    "classifier(\"I am loving it.\")"
   ]
  },
  {
   "cell_type": "code",
   "execution_count": 5,
   "metadata": {},
   "outputs": [
    {
     "data": {
      "text/plain": [
       "[{'label': 'NEGATIVE', 'score': 0.9970771074295044}]"
      ]
     },
     "execution_count": 5,
     "metadata": {},
     "output_type": "execute_result"
    }
   ],
   "source": [
    "classifier(\"I hate waking up early on the weekends.\")"
   ]
  },
  {
   "cell_type": "code",
   "execution_count": 6,
   "metadata": {},
   "outputs": [
    {
     "data": {
      "text/html": [
       "<div>\n",
       "<style scoped>\n",
       "    .dataframe tbody tr th:only-of-type {\n",
       "        vertical-align: middle;\n",
       "    }\n",
       "\n",
       "    .dataframe tbody tr th {\n",
       "        vertical-align: top;\n",
       "    }\n",
       "\n",
       "    .dataframe thead th {\n",
       "        text-align: right;\n",
       "    }\n",
       "</style>\n",
       "<table border=\"1\" class=\"dataframe\">\n",
       "  <thead>\n",
       "    <tr style=\"text-align: right;\">\n",
       "      <th></th>\n",
       "      <th>id</th>\n",
       "      <th>author</th>\n",
       "      <th>status</th>\n",
       "    </tr>\n",
       "  </thead>\n",
       "  <tbody>\n",
       "    <tr>\n",
       "      <th>0</th>\n",
       "      <td>1</td>\n",
       "      <td>Donald J. Trump</td>\n",
       "      <td>I will be making a major statement from the @W...</td>\n",
       "    </tr>\n",
       "    <tr>\n",
       "      <th>1</th>\n",
       "      <td>2</td>\n",
       "      <td>Donald J. Trump</td>\n",
       "      <td>Just arrived at #ASEAN50 in the Philippines fo...</td>\n",
       "    </tr>\n",
       "    <tr>\n",
       "      <th>2</th>\n",
       "      <td>3</td>\n",
       "      <td>Donald J. Trump</td>\n",
       "      <td>After my tour of Asia, all Countries dealing w...</td>\n",
       "    </tr>\n",
       "    <tr>\n",
       "      <th>3</th>\n",
       "      <td>4</td>\n",
       "      <td>Donald J. Trump</td>\n",
       "      <td>Great to see @RandPaul looking well and back o...</td>\n",
       "    </tr>\n",
       "    <tr>\n",
       "      <th>4</th>\n",
       "      <td>5</td>\n",
       "      <td>Donald J. Trump</td>\n",
       "      <td>Excited to be heading home to see the House pa...</td>\n",
       "    </tr>\n",
       "  </tbody>\n",
       "</table>\n",
       "</div>"
      ],
      "text/plain": [
       "   id           author                                             status\n",
       "0   1  Donald J. Trump  I will be making a major statement from the @W...\n",
       "1   2  Donald J. Trump  Just arrived at #ASEAN50 in the Philippines fo...\n",
       "2   3  Donald J. Trump  After my tour of Asia, all Countries dealing w...\n",
       "3   4  Donald J. Trump  Great to see @RandPaul looking well and back o...\n",
       "4   5  Donald J. Trump  Excited to be heading home to see the House pa..."
      ]
     },
     "execution_count": 6,
     "metadata": {},
     "output_type": "execute_result"
    }
   ],
   "source": [
    "import pandas as pd\n",
    "data = pd.read_csv('tweets_trump_trudeau.csv')\n",
    "data.head()"
   ]
  },
  {
   "cell_type": "code",
   "execution_count": 7,
   "metadata": {},
   "outputs": [
    {
     "name": "stdout",
     "output_type": "stream",
     "text": [
      "[{'label': 'POSITIVE', 'score': 0.9971588850021362}]\n",
      "[{'label': 'NEGATIVE', 'score': 0.8045341968536377}]\n",
      "[{'label': 'NEGATIVE', 'score': 0.9773215651512146}]\n",
      "[{'label': 'POSITIVE', 'score': 0.9997676014900208}]\n",
      "[{'label': 'POSITIVE', 'score': 0.9989203214645386}]\n",
      "[{'label': 'POSITIVE', 'score': 0.9989012479782104}]\n",
      "[{'label': 'POSITIVE', 'score': 0.9992148876190186}]\n",
      "[{'label': 'POSITIVE', 'score': 0.9909795522689819}]\n",
      "[{'label': 'POSITIVE', 'score': 0.9979164004325867}]\n",
      "[{'label': 'POSITIVE', 'score': 0.9990936517715454}]\n"
     ]
    }
   ],
   "source": [
    "for i in data['status'][:10]:\n",
    "    print(classifier(i))"
   ]
  },
  {
   "cell_type": "code",
   "execution_count": 8,
   "metadata": {},
   "outputs": [
    {
     "data": {
      "application/vnd.jupyter.widget-view+json": {
       "model_id": "cdab02d438c84a448aec145a7f5bbde9",
       "version_major": 2,
       "version_minor": 0
      },
      "text/plain": [
       "config.json:   0%|          | 0.00/768 [00:00<?, ?B/s]"
      ]
     },
     "metadata": {},
     "output_type": "display_data"
    },
    {
     "data": {
      "application/vnd.jupyter.widget-view+json": {
       "model_id": "7205a9944d694faf8d3938a76882c39e",
       "version_major": 2,
       "version_minor": 0
      },
      "text/plain": [
       "pytorch_model.bin:   0%|          | 0.00/499M [00:00<?, ?B/s]"
      ]
     },
     "metadata": {},
     "output_type": "display_data"
    },
    {
     "data": {
      "application/vnd.jupyter.widget-view+json": {
       "model_id": "2d574e2344174bfea5074c6f5366bcbc",
       "version_major": 2,
       "version_minor": 0
      },
      "text/plain": [
       "vocab.json:   0%|          | 0.00/899k [00:00<?, ?B/s]"
      ]
     },
     "metadata": {},
     "output_type": "display_data"
    },
    {
     "data": {
      "application/vnd.jupyter.widget-view+json": {
       "model_id": "e84fb16c08084d299549d6977b78cacd",
       "version_major": 2,
       "version_minor": 0
      },
      "text/plain": [
       "merges.txt:   0%|          | 0.00/456k [00:00<?, ?B/s]"
      ]
     },
     "metadata": {},
     "output_type": "display_data"
    },
    {
     "data": {
      "application/vnd.jupyter.widget-view+json": {
       "model_id": "515b511d2cfc4e9084d4c1947d3d0cf6",
       "version_major": 2,
       "version_minor": 0
      },
      "text/plain": [
       "special_tokens_map.json:   0%|          | 0.00/150 [00:00<?, ?B/s]"
      ]
     },
     "metadata": {},
     "output_type": "display_data"
    },
    {
     "name": "stderr",
     "output_type": "stream",
     "text": [
      "/Users/Ollie/anaconda3/envs/mma865/lib/python3.11/site-packages/transformers/tokenization_utils_base.py:1601: FutureWarning: `clean_up_tokenization_spaces` was not set. It will be set to `True` by default. This behavior will be depracted in transformers v4.45, and will be then set to `False` by default. For more details check this issue: https://github.com/huggingface/transformers/issues/31884\n",
      "  warnings.warn(\n",
      "Hardware accelerator e.g. GPU is available in the environment, but no `device` argument is passed to the `Pipeline` object. Model will be on CPU.\n"
     ]
    }
   ],
   "source": [
    "classifier2 = pipeline('sentiment-analysis', model='cardiffnlp/twitter-roberta-base-emotion')"
   ]
  },
  {
   "cell_type": "code",
   "execution_count": 9,
   "metadata": {},
   "outputs": [
    {
     "name": "stdout",
     "output_type": "stream",
     "text": [
      "[{'label': 'anger', 'score': 0.5119701623916626}]\n",
      "[{'label': 'optimism', 'score': 0.48820024728775024}]\n",
      "[{'label': 'joy', 'score': 0.4762808084487915}]\n",
      "[{'label': 'anger', 'score': 0.5054358243942261}]\n",
      "[{'label': 'optimism', 'score': 0.8508567810058594}]\n",
      "[{'label': 'anger', 'score': 0.6616513133049011}]\n",
      "[{'label': 'optimism', 'score': 0.5628583431243896}]\n",
      "[{'label': 'anger', 'score': 0.7449217438697815}]\n",
      "[{'label': 'optimism', 'score': 0.6141897439956665}]\n",
      "[{'label': 'optimism', 'score': 0.6337209343910217}]\n"
     ]
    }
   ],
   "source": [
    "for i in data['status'][:10]:\n",
    "    print(classifier2(i))"
   ]
  },
  {
   "cell_type": "markdown",
   "metadata": {},
   "source": [
    "# Text Summarization"
   ]
  },
  {
   "cell_type": "code",
   "execution_count": 10,
   "metadata": {},
   "outputs": [
    {
     "name": "stderr",
     "output_type": "stream",
     "text": [
      "No model was supplied, defaulted to sshleifer/distilbart-cnn-12-6 and revision a4f8f3e (https://huggingface.co/sshleifer/distilbart-cnn-12-6).\n",
      "Using a pipeline without specifying a model name and revision in production is not recommended.\n"
     ]
    },
    {
     "data": {
      "application/vnd.jupyter.widget-view+json": {
       "model_id": "30728d15664e4dd6a1ccc904006ff0a2",
       "version_major": 2,
       "version_minor": 0
      },
      "text/plain": [
       "config.json:   0%|          | 0.00/1.80k [00:00<?, ?B/s]"
      ]
     },
     "metadata": {},
     "output_type": "display_data"
    },
    {
     "data": {
      "application/vnd.jupyter.widget-view+json": {
       "model_id": "0d9e27bfd8104766bd7268fee77f3258",
       "version_major": 2,
       "version_minor": 0
      },
      "text/plain": [
       "pytorch_model.bin:   0%|          | 0.00/1.22G [00:00<?, ?B/s]"
      ]
     },
     "metadata": {},
     "output_type": "display_data"
    },
    {
     "name": "stderr",
     "output_type": "stream",
     "text": [
      "Error while downloading from https://cdn-lfs.huggingface.co/sshleifer/distilbart-cnn-12-6/3bac65d18c99463302d12ca75c2220ea714f9c81ce235f205fa818efe71df6ea?response-content-disposition=inline%3B+filename*%3DUTF-8%27%27pytorch_model.bin%3B+filename%3D%22pytorch_model.bin%22%3B&response-content-type=application%2Foctet-stream&Expires=1726351632&Policy=eyJTdGF0ZW1lbnQiOlt7IkNvbmRpdGlvbiI6eyJEYXRlTGVzc1RoYW4iOnsiQVdTOkVwb2NoVGltZSI6MTcyNjM1MTYzMn19LCJSZXNvdXJjZSI6Imh0dHBzOi8vY2RuLWxmcy5odWdnaW5nZmFjZS5jby9zc2hsZWlmZXIvZGlzdGlsYmFydC1jbm4tMTItNi8zYmFjNjVkMThjOTk0NjMzMDJkMTJjYTc1YzIyMjBlYTcxNGY5YzgxY2UyMzVmMjA1ZmE4MThlZmU3MWRmNmVhP3Jlc3BvbnNlLWNvbnRlbnQtZGlzcG9zaXRpb249KiZyZXNwb25zZS1jb250ZW50LXR5cGU9KiJ9XX0_&Signature=a5ynevL%7ETpkkFRVrO-Tofwho94kp5wCSVO0W%7ELfLNoxtygoIv2YUgytMzxPzh584WRjeOzRW1DFjDfCXXqCMnT4QcV02Cv8UEzy-obk0LDnkJZHloV5S819%7E3o00KBOF3z69vX-%7E0PUjSUPPXUpjBC63Y4mPqVEOspsaPy7uRrpUNGZpIqRs93t%7EkwZg-VWNAwbI4VHEu6%7E85aZPTdfHWPkam1L7e2aWVvmoLlSUsNCH9hq0PrcTxvKqsP69Y%7Ehf2TPNH7NyQF4%7EqGjEo6P341dSShZKuLRV8eEW83hBKDrMkB2J9dKBaDA1OED0s9PW-Q4V21kBcCfqKcsptY6U0A__&Key-Pair-Id=K3ESJI6DHPFC7: HTTPSConnectionPool(host='cdn-lfs.huggingface.co', port=443): Read timed out.\n",
      "Trying to resume download...\n"
     ]
    },
    {
     "data": {
      "application/vnd.jupyter.widget-view+json": {
       "model_id": "7f8b25b86b1d47b0903d01537df6084f",
       "version_major": 2,
       "version_minor": 0
      },
      "text/plain": [
       "pytorch_model.bin:  81%|########1 | 996M/1.22G [00:00<?, ?B/s]"
      ]
     },
     "metadata": {},
     "output_type": "display_data"
    },
    {
     "data": {
      "application/vnd.jupyter.widget-view+json": {
       "model_id": "6ad26cfc13c4439ca90a96d5c8fd0ffe",
       "version_major": 2,
       "version_minor": 0
      },
      "text/plain": [
       "tokenizer_config.json:   0%|          | 0.00/26.0 [00:00<?, ?B/s]"
      ]
     },
     "metadata": {},
     "output_type": "display_data"
    },
    {
     "data": {
      "application/vnd.jupyter.widget-view+json": {
       "model_id": "8230f3c3dbe34d7a8166534add54bb71",
       "version_major": 2,
       "version_minor": 0
      },
      "text/plain": [
       "vocab.json:   0%|          | 0.00/899k [00:00<?, ?B/s]"
      ]
     },
     "metadata": {},
     "output_type": "display_data"
    },
    {
     "data": {
      "application/vnd.jupyter.widget-view+json": {
       "model_id": "d3dd7c1d9d9144dc8c96c610da2b8f26",
       "version_major": 2,
       "version_minor": 0
      },
      "text/plain": [
       "merges.txt:   0%|          | 0.00/456k [00:00<?, ?B/s]"
      ]
     },
     "metadata": {},
     "output_type": "display_data"
    },
    {
     "name": "stderr",
     "output_type": "stream",
     "text": [
      "Hardware accelerator e.g. GPU is available in the environment, but no `device` argument is passed to the `Pipeline` object. Model will be on CPU.\n"
     ]
    }
   ],
   "source": [
    "summarizer = pipeline('summarization')"
   ]
  },
  {
   "cell_type": "code",
   "execution_count": 11,
   "metadata": {},
   "outputs": [
    {
     "data": {
      "text/plain": [
       "[{'summary_text': ' Course Syllabus: Natural Language Processing (NLP) is one of the six AI disciplines . We will discuss the major practice areas of NLP and several of its use-cases across many different industries . Big Data Engineering: Apache Hadoop, Spark, Relational and Non-Relational Database, and Cloud platforms .'}]"
      ]
     },
     "execution_count": 11,
     "metadata": {},
     "output_type": "execute_result"
    }
   ],
   "source": [
    "summarizer(\"\"\"\n",
    "¬¬MMA 865 2025B: Big Data Analytics\n",
    "Course Syllabus\n",
    "Updated August 7, 2024\n",
    "COURSE DESCRIPTION\n",
    "This course has two core components:\n",
    "1.\tNatural Language Processing\n",
    "Natural Language Processing (NLP) is one of the six AI disciplines. We will discuss the major practice areas of NLP and several of its use-cases across many different industries. These key areas include Information Extraction, Document Classification, Sentiment Analysis, Language Generation, Chatbots, and Machine Translation. \n",
    "We will thoroughly cover text preprocessing and vectorization, as they are foundations for training NLP models. You will gain comprehensive knowledge of the tools and techniques necessary for effectively managing text data. This includes text preprocessing, text data visualization, and text vectorization / embeddings.\n",
    "Large Language Models (LLM) like GPT have ushered in a paradigm shift in NLP, making them an indispensable asset for solving a wide range of language-related tasks. We will also briefly cover Transfer Learning and Transformer architecture in NLP, highlighting their significant impact on language models like GPT, Claude, LLaMa, Mistral, BARD, etc. Finally, we will explore how OpenAI's ChatGPT (and other LLM’s) are revolutionizing the operational landscape by studying practical use-cases of LLM’s.\n",
    "2.\tBig Data Engineering\n",
    "We will explore big data engineering, covering key technologies such as Apache Hadoop, Spark, Relational and Non-Relational Database, and Cloud platforms. You will learn the history of big data, fundamentals, and the current trends.\n",
    "We will also delve into advanced topics for machine learning system design. This includes an overview of several key technologies used in Machine Learning Operations (MLOps) such as Docker, Kubernetes, Microservices architecture, Experiment Logging, etc. Through a combination of theory and demos, you will gain practical insights into the foundations of big data engineering.\n",
    "INSTRUCTOR\n",
    "Moez Ali\n",
    "moez.ali@queensu.ca\n",
    "\tTEACHING ASSISTANT \n",
    "Raghav Gupta\n",
    "raghav.gupta@queensu.ca\n",
    "OFFICE HOURS\n",
    "Office hours schedule TBA in the first class.\n",
    "RECOMMENDED TEXTBOOKS\n",
    "Optional Textbooks that you can read at your own time.\n",
    "•\tTransformers for Natural Language Processing: Build, train, and fine-tune deep neural network architectures for NLP with Python, PyTorch, TensorFlow, BERT, and GPT-3, 2nd Edition\n",
    "•\tLearning Spark: Lightning-Fast Data Analytics 2nd Edition\n",
    "•\tModern Generative AI with ChatGPT and OpenAI Models 1st Edition - Leverage the capabilities of OpenAI's LLM for productivity and innovation with GPT3 and GPT4\n",
    "COURSE EVALUATION\n",
    "Item\tValue\tDue*\n",
    "Class Participation\t20%\tOn-going\n",
    "Individual Assignment\t30%\tSeptember 7, 2024\n",
    "Team Assignment\t30%\tSeptember 28, 2024\n",
    "Team Project\t20%\tOctober 5, 2024\n",
    "* By 11:59pm Eastern Time.\n",
    "1. Class Participation\n",
    "Class participation is integral to the learning process and constitutes 20% of the course grade. Effective participation goes beyond mere attendance; it requires active engagement in classroom discussions, demonstrating a thorough understanding of the course materials. Students are encouraged to actively listen, thoughtfully contribute to discussions, and engage with different viewpoints.\n",
    "A key aspect of class participation is the ability to ask meaningful questions that reflect deep engagement with the course content. Good questions are clear, concise, and stimulate further discussion. They should showcase critical thinking and a genuine curiosity about the subject matter.\n",
    "Sharing use-cases, real-life experience, a new information on the subject based on your expertise and as it relates to the content is another way to demonstrate strong class participation.\n",
    "2. Individual Assignment\n",
    "Please see Individual Assignment under “Assignment” section on the course portal. \n",
    "3. Team Assignment\n",
    "Please see Team Assignment – The Turing Tussle under “Assignment” section on the course portal.\n",
    "4. Team Project\n",
    "Please see Team Project - House of Common under “Assignment” section on the course portal.\n",
    "\"\"\")"
   ]
  },
  {
   "cell_type": "code",
   "execution_count": 12,
   "metadata": {},
   "outputs": [
    {
     "data": {
      "text/plain": [
       "[{'summary_text': ' Elon Musk was born on June 28, 1971, in Pretoria, South Africa . He was bullied until he was 15 and learned how to defend himself with karate and wrestling . He moved to Canada in 1989 to attend Queen’s University and avoid mandatory service in the South African military . He dropped out of Stanford University after two days to launch his first company, Zip2 .'}]"
      ]
     },
     "execution_count": 12,
     "metadata": {},
     "output_type": "execute_result"
    }
   ],
   "source": [
    "summarizer(\"\"\"\n",
    "Elon Musk is a South African-born American entrepreneur and businessman who founded X.com in 1999 (which later became PayPal), SpaceX in 2002 and Tesla Motors in 2003. Musk became a multimillionaire in his late 20s when he sold his start-up company, Zip2, to a division of Compaq Computers. \n",
    "\n",
    "Musk made headlines in May 2012, when SpaceX launched a rocket that would send the first commercial vehicle to the International Space Station. He bolstered his portfolio with the purchase of SolarCity in 2016 and cemented his standing as a leader of industry by taking on an advisory role in the early days of President Donald Trump's administration.\n",
    "\n",
    "In January 2021, Musk reportedly surpassed Jeff Bezos as the wealthiest man in the world.\n",
    "\n",
    "Early Life\n",
    "Musk was born on June 28, 1971, in Pretoria, South Africa. As a child, Musk was so lost in his daydreams about inventions that his parents and doctors ordered a test to check his hearing.\n",
    "\n",
    "At about the time of his parents’ divorce, when he was 10, Musk developed an interest in computers. He taught himself how to program, and when he was 12 he sold his first software: a game he created called Blastar.\n",
    "\n",
    "In grade school, Musk was short, introverted and bookish. He was bullied until he was 15 and went through a growth spurt and learned how to defend himself with karate and wrestling.\n",
    "\n",
    "Family\n",
    "Musk’s mother, Maye Musk, is a Canadian model and the oldest woman to star in a Covergirl campaign. When Musk was growing up, she worked five jobs at one point to support her family.\n",
    "\n",
    "Musk’s father, Errol Musk, is a wealthy South African engineer.\n",
    "\n",
    "Musk spent his early childhood with his brother Kimbal and sister Tosca in South Africa. His parents divorced when he was 10.\n",
    "\n",
    "Education\n",
    "At age 17, in 1989, Musk moved to Canada to attend Queen’s University and avoid mandatory service in the South African military. Musk obtained his Canadian citizenship that year, in part because he felt it would be easier to obtain American citizenship via that path.\n",
    "\n",
    "In 1992, Musk left Canada to study business and physics at the University of Pennsylvania. He graduated with an undergraduate degree in economics and stayed for a second bachelor’s degree in physics.\n",
    "\n",
    "After leaving Penn, Musk headed to Stanford University in California to pursue a PhD in energy physics. However, his move was timed perfectly with the Internet boom, and he dropped out of Stanford after just two days to become a part of it, launching his first company, Zip2 Corporation in 1995. Musk became a U.S. citizen in 2002.\n",
    "\"\"\")"
   ]
  },
  {
   "cell_type": "code",
   "execution_count": 13,
   "metadata": {},
   "outputs": [
    {
     "data": {
      "application/vnd.jupyter.widget-view+json": {
       "model_id": "e804b920c2084dc08f3e029c19bb422a",
       "version_major": 2,
       "version_minor": 0
      },
      "text/plain": [
       "config.json:   0%|          | 0.00/1.51k [00:00<?, ?B/s]"
      ]
     },
     "metadata": {},
     "output_type": "display_data"
    },
    {
     "data": {
      "application/vnd.jupyter.widget-view+json": {
       "model_id": "25c67e0b75da4acd89f2f5e79aeca65b",
       "version_major": 2,
       "version_minor": 0
      },
      "text/plain": [
       "pytorch_model.bin:   0%|          | 0.00/1.63G [00:00<?, ?B/s]"
      ]
     },
     "metadata": {},
     "output_type": "display_data"
    },
    {
     "data": {
      "application/vnd.jupyter.widget-view+json": {
       "model_id": "3c3204107a5e4077b0b74c386e53ba38",
       "version_major": 2,
       "version_minor": 0
      },
      "text/plain": [
       "generation_config.json:   0%|          | 0.00/309 [00:00<?, ?B/s]"
      ]
     },
     "metadata": {},
     "output_type": "display_data"
    },
    {
     "data": {
      "application/vnd.jupyter.widget-view+json": {
       "model_id": "8e227d6bcb1d49f5b30260b3c02c5dda",
       "version_major": 2,
       "version_minor": 0
      },
      "text/plain": [
       "tokenizer_config.json:   0%|          | 0.00/26.0 [00:00<?, ?B/s]"
      ]
     },
     "metadata": {},
     "output_type": "display_data"
    },
    {
     "data": {
      "application/vnd.jupyter.widget-view+json": {
       "model_id": "e3b789cfb41d4e7d8259aa5e85981c8e",
       "version_major": 2,
       "version_minor": 0
      },
      "text/plain": [
       "vocab.json:   0%|          | 0.00/899k [00:00<?, ?B/s]"
      ]
     },
     "metadata": {},
     "output_type": "display_data"
    },
    {
     "data": {
      "application/vnd.jupyter.widget-view+json": {
       "model_id": "171ca44e47e048d08998a7c8a99cc760",
       "version_major": 2,
       "version_minor": 0
      },
      "text/plain": [
       "merges.txt:   0%|          | 0.00/456k [00:00<?, ?B/s]"
      ]
     },
     "metadata": {},
     "output_type": "display_data"
    },
    {
     "data": {
      "application/vnd.jupyter.widget-view+json": {
       "model_id": "791247eb5db7431b83227f2448a6e88b",
       "version_major": 2,
       "version_minor": 0
      },
      "text/plain": [
       "tokenizer.json:   0%|          | 0.00/1.36M [00:00<?, ?B/s]"
      ]
     },
     "metadata": {},
     "output_type": "display_data"
    },
    {
     "name": "stderr",
     "output_type": "stream",
     "text": [
      "Hardware accelerator e.g. GPU is available in the environment, but no `device` argument is passed to the `Pipeline` object. Model will be on CPU.\n"
     ]
    }
   ],
   "source": [
    "summarizer2 = pipeline('summarization', model='facebook/bart-large-xsum')"
   ]
  },
  {
   "cell_type": "code",
   "execution_count": 14,
   "metadata": {},
   "outputs": [
    {
     "data": {
      "text/plain": [
       "[{'summary_text': 'Elon Musk is the wealthiest man in the world, according to Forbes magazine.'}]"
      ]
     },
     "execution_count": 14,
     "metadata": {},
     "output_type": "execute_result"
    }
   ],
   "source": [
    "summarizer2(\"\"\"\n",
    "Elon Musk is a South African-born American entrepreneur and businessman who founded X.com in 1999 (which later became PayPal), SpaceX in 2002 and Tesla Motors in 2003. Musk became a multimillionaire in his late 20s when he sold his start-up company, Zip2, to a division of Compaq Computers. \n",
    "\n",
    "Musk made headlines in May 2012, when SpaceX launched a rocket that would send the first commercial vehicle to the International Space Station. He bolstered his portfolio with the purchase of SolarCity in 2016 and cemented his standing as a leader of industry by taking on an advisory role in the early days of President Donald Trump's administration.\n",
    "\n",
    "In January 2021, Musk reportedly surpassed Jeff Bezos as the wealthiest man in the world.\n",
    "\n",
    "Early Life\n",
    "Musk was born on June 28, 1971, in Pretoria, South Africa. As a child, Musk was so lost in his daydreams about inventions that his parents and doctors ordered a test to check his hearing.\n",
    "\n",
    "At about the time of his parents’ divorce, when he was 10, Musk developed an interest in computers. He taught himself how to program, and when he was 12 he sold his first software: a game he created called Blastar.\n",
    "\n",
    "In grade school, Musk was short, introverted and bookish. He was bullied until he was 15 and went through a growth spurt and learned how to defend himself with karate and wrestling.\n",
    "\n",
    "Family\n",
    "Musk’s mother, Maye Musk, is a Canadian model and the oldest woman to star in a Covergirl campaign. When Musk was growing up, she worked five jobs at one point to support her family.\n",
    "\n",
    "Musk’s father, Errol Musk, is a wealthy South African engineer.\n",
    "\n",
    "Musk spent his early childhood with his brother Kimbal and sister Tosca in South Africa. His parents divorced when he was 10.\n",
    "\n",
    "Education\n",
    "At age 17, in 1989, Musk moved to Canada to attend Queen’s University and avoid mandatory service in the South African military. Musk obtained his Canadian citizenship that year, in part because he felt it would be easier to obtain American citizenship via that path.\n",
    "\n",
    "In 1992, Musk left Canada to study business and physics at the University of Pennsylvania. He graduated with an undergraduate degree in economics and stayed for a second bachelor’s degree in physics.\n",
    "\n",
    "After leaving Penn, Musk headed to Stanford University in California to pursue a PhD in energy physics. However, his move was timed perfectly with the Internet boom, and he dropped out of Stanford after just two days to become a part of it, launching his first company, Zip2 Corporation in 1995. Musk became a U.S. citizen in 2002.\n",
    "\"\"\")"
   ]
  },
  {
   "cell_type": "code",
   "execution_count": 15,
   "metadata": {},
   "outputs": [
    {
     "data": {
      "text/plain": [
       "[{'summary_text': ' The covenant was made with the people of Lower Canada, and recorded in the Statute Book of the United Kingdom of Great Britain and Ireland, as the thirty-first chapter of the Act passed in the 30-first year of the Reign of King George III . And, whereas our humble petitions, addresses, protests, and remonstrances against this injurious and unconstitutional interference have been made in vain. That the British Government has disposed of our revenue without the constitutional consent of the local Legislature .'}]"
      ]
     },
     "execution_count": 15,
     "metadata": {},
     "output_type": "execute_result"
    }
   ],
   "source": [
    "summarizer(\"\"\"\n",
    "WHEREAS, the solemn covenant made with the people of Lower Canada, and recorded in the Statute Book of the United Kingdom of Great Britain and Ireland, as the thirty-first chapter of the Act passed in the thirty-first year of the Reign of King George III hath been continually violated by the British Government, and our rights usurped. And, whereas our humble petitions, addresses, protests, and remonstrances against this injurious and unconstitutional interference have been made in vain. That the British Government hath disposed of our revenue without the constitutional consent of the local Legislature — pillaged our treasury — arrested great numbers of our citizens, and committed them to prison — distributed through the country a mercenary army, whose presence is accompanied by consternation and alarm — whose track is red with the blood of our people — who have laid our villages in ashes — profaned our temples — and spread terror and waste through the land. And, whereas we can no longer suffer the repeated violations of our dearest rights, and patiently support the multiplied outrages and cruelties of the Government of Lower Canada, we, in the name of the people of Lower Canada, acknowledging the decrees of a Divine Providence, which permits us to put down a Government, which hath abused the object and intention for which it was created, and to make choice of that form of Government which shall re-establish the empire of justice — assure domestic tranquillity — provide for common defence — promote general good, and secure to us and our posterity the advantages of civil and religious liberty,\n",
    "\"\"\")"
   ]
  },
  {
   "cell_type": "code",
   "execution_count": 16,
   "metadata": {},
   "outputs": [
    {
     "data": {
      "text/plain": [
       "[{'summary_text': 'A petition signed by the people of Lower Canada, calling on the British Government to repeal the Indian Act.'}]"
      ]
     },
     "execution_count": 16,
     "metadata": {},
     "output_type": "execute_result"
    }
   ],
   "source": [
    "summarizer2(\"\"\"\n",
    "WHEREAS, the solemn covenant made with the people of Lower Canada, and recorded in the Statute Book of the United Kingdom of Great Britain and Ireland, as the thirty-first chapter of the Act passed in the thirty-first year of the Reign of King George III hath been continually violated by the British Government, and our rights usurped. And, whereas our humble petitions, addresses, protests, and remonstrances against this injurious and unconstitutional interference have been made in vain. That the British Government hath disposed of our revenue without the constitutional consent of the local Legislature — pillaged our treasury — arrested great numbers of our citizens, and committed them to prison — distributed through the country a mercenary army, whose presence is accompanied by consternation and alarm — whose track is red with the blood of our people — who have laid our villages in ashes — profaned our temples — and spread terror and waste through the land. And, whereas we can no longer suffer the repeated violations of our dearest rights, and patiently support the multiplied outrages and cruelties of the Government of Lower Canada, we, in the name of the people of Lower Canada, acknowledging the decrees of a Divine Providence, which permits us to put down a Government, which hath abused the object and intention for which it was created, and to make choice of that form of Government which shall re-establish the empire of justice — assure domestic tranquillity — provide for common defence — promote general good, and secure to us and our posterity the advantages of civil and religious liberty,\n",
    "\"\"\")"
   ]
  },
  {
   "cell_type": "markdown",
   "metadata": {},
   "source": [
    "# Text Generation\n"
   ]
  },
  {
   "cell_type": "code",
   "execution_count": 17,
   "metadata": {},
   "outputs": [
    {
     "name": "stderr",
     "output_type": "stream",
     "text": [
      "No model was supplied, defaulted to openai-community/gpt2 and revision 6c0e608 (https://huggingface.co/openai-community/gpt2).\n",
      "Using a pipeline without specifying a model name and revision in production is not recommended.\n"
     ]
    },
    {
     "data": {
      "application/vnd.jupyter.widget-view+json": {
       "model_id": "014a85916d4546b2821f9f7ff287b558",
       "version_major": 2,
       "version_minor": 0
      },
      "text/plain": [
       "config.json:   0%|          | 0.00/665 [00:00<?, ?B/s]"
      ]
     },
     "metadata": {},
     "output_type": "display_data"
    },
    {
     "data": {
      "application/vnd.jupyter.widget-view+json": {
       "model_id": "b11f7b7068c24288b782e96b39d6e6d1",
       "version_major": 2,
       "version_minor": 0
      },
      "text/plain": [
       "model.safetensors:   0%|          | 0.00/548M [00:00<?, ?B/s]"
      ]
     },
     "metadata": {},
     "output_type": "display_data"
    },
    {
     "data": {
      "application/vnd.jupyter.widget-view+json": {
       "model_id": "acd5f0c2725e44e8b6a5004af8375aea",
       "version_major": 2,
       "version_minor": 0
      },
      "text/plain": [
       "generation_config.json:   0%|          | 0.00/124 [00:00<?, ?B/s]"
      ]
     },
     "metadata": {},
     "output_type": "display_data"
    },
    {
     "data": {
      "application/vnd.jupyter.widget-view+json": {
       "model_id": "cab1ade47e0c491681bca2b344ad1a41",
       "version_major": 2,
       "version_minor": 0
      },
      "text/plain": [
       "tokenizer_config.json:   0%|          | 0.00/26.0 [00:00<?, ?B/s]"
      ]
     },
     "metadata": {},
     "output_type": "display_data"
    },
    {
     "data": {
      "application/vnd.jupyter.widget-view+json": {
       "model_id": "bb409f15d41d4fe6931f87c22cdb1174",
       "version_major": 2,
       "version_minor": 0
      },
      "text/plain": [
       "vocab.json:   0%|          | 0.00/1.04M [00:00<?, ?B/s]"
      ]
     },
     "metadata": {},
     "output_type": "display_data"
    },
    {
     "data": {
      "application/vnd.jupyter.widget-view+json": {
       "model_id": "85611caeac804eaeb994a43813235eea",
       "version_major": 2,
       "version_minor": 0
      },
      "text/plain": [
       "merges.txt:   0%|          | 0.00/456k [00:00<?, ?B/s]"
      ]
     },
     "metadata": {},
     "output_type": "display_data"
    },
    {
     "data": {
      "application/vnd.jupyter.widget-view+json": {
       "model_id": "38ed1d5702dc409f894b38c59aadd012",
       "version_major": 2,
       "version_minor": 0
      },
      "text/plain": [
       "tokenizer.json:   0%|          | 0.00/1.36M [00:00<?, ?B/s]"
      ]
     },
     "metadata": {},
     "output_type": "display_data"
    },
    {
     "name": "stderr",
     "output_type": "stream",
     "text": [
      "Hardware accelerator e.g. GPU is available in the environment, but no `device` argument is passed to the `Pipeline` object. Model will be on CPU.\n"
     ]
    }
   ],
   "source": [
    "generator = pipeline('text-generation')"
   ]
  },
  {
   "cell_type": "code",
   "execution_count": 19,
   "metadata": {},
   "outputs": [
    {
     "name": "stderr",
     "output_type": "stream",
     "text": [
      "Setting `pad_token_id` to `eos_token_id`:50256 for open-end generation.\n"
     ]
    },
    {
     "data": {
      "text/plain": [
       "[{'generated_text': \"Adam and Natalie are good friends. Since then Natalie has tried the 'Jamaican' diet to become the best, but he has only had one sandwich so far. When he had to go to his room he noticed Natalie's face, which was\"}]"
      ]
     },
     "execution_count": 19,
     "metadata": {},
     "output_type": "execute_result"
    }
   ],
   "source": [
    "generator(\"Adam and Natalie are good friends.\")"
   ]
  },
  {
   "cell_type": "code",
   "execution_count": 20,
   "metadata": {},
   "outputs": [
    {
     "name": "stderr",
     "output_type": "stream",
     "text": [
      "Setting `pad_token_id` to `eos_token_id`:50256 for open-end generation.\n"
     ]
    },
    {
     "data": {
      "text/plain": [
       "[{'generated_text': 'Since I have joined Queens University. The time has come to start again. I would love to start an office in my hometown, New York, and start again here.\\n\\nAnd it was for this very reason I had my own mission: I'}]"
      ]
     },
     "execution_count": 20,
     "metadata": {},
     "output_type": "execute_result"
    }
   ],
   "source": [
    "generator(\"Since I have joined Queens University.\") "
   ]
  },
  {
   "cell_type": "code",
   "execution_count": 21,
   "metadata": {},
   "outputs": [
    {
     "name": "stderr",
     "output_type": "stream",
     "text": [
      "Setting `pad_token_id` to `eos_token_id`:50256 for open-end generation.\n"
     ]
    },
    {
     "data": {
      "text/plain": [
       "[{'generated_text': 'Canada is a country..... not just the biggest or most popular in the world, but one of the most unique. Why would we do that? We need to do it without a problem.\\n\\nQ) How would you explain why a small government'}]"
      ]
     },
     "execution_count": 21,
     "metadata": {},
     "output_type": "execute_result"
    }
   ],
   "source": [
    "generator(\"Canada is a country.....\")"
   ]
  },
  {
   "cell_type": "code",
   "execution_count": null,
   "metadata": {},
   "outputs": [],
   "source": []
  }
 ],
 "metadata": {
  "kernelspec": {
   "display_name": "mma865",
   "language": "python",
   "name": "python3"
  },
  "language_info": {
   "codemirror_mode": {
    "name": "ipython",
    "version": 3
   },
   "file_extension": ".py",
   "mimetype": "text/x-python",
   "name": "python",
   "nbconvert_exporter": "python",
   "pygments_lexer": "ipython3",
   "version": "3.11.9"
  }
 },
 "nbformat": 4,
 "nbformat_minor": 2
}
